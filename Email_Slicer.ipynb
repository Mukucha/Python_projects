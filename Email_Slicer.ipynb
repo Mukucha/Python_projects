{
 "cells": [
  {
   "cell_type": "code",
   "execution_count": null,
   "id": "16f5c150",
   "metadata": {},
   "outputs": [
    {
     "name": "stdout",
     "output_type": "stream",
     "text": [
      "WELCOME TO EMAIL SLICER\n",
      "\n"
     ]
    }
   ],
   "source": [
    "def Domainget():\n",
    "    print('WELCOME TO EMAIL SLICER\\n')\n",
    "\n",
    "    s = input('Please enter your email')\n",
    "\n",
    "    (username, domain) = s.split('@')\n",
    "    (domain, extention) = s.split('.')\n",
    " \n",
    "    print('username:', username)\n",
    "    print('dmain: ', domain)\n",
    "    print('extention:', extention)\n",
    " \n",
    "    while True:\n",
    "         y = Domainget()\n",
    "Domainget()\n",
    " "
   ]
  },
  {
   "cell_type": "code",
   "execution_count": null,
   "id": "c24f1921",
   "metadata": {},
   "outputs": [],
   "source": []
  }
 ],
 "metadata": {
  "kernelspec": {
   "display_name": "Python 3 (ipykernel)",
   "language": "python",
   "name": "python3"
  },
  "language_info": {
   "codemirror_mode": {
    "name": "ipython",
    "version": 3
   },
   "file_extension": ".py",
   "mimetype": "text/x-python",
   "name": "python",
   "nbconvert_exporter": "python",
   "pygments_lexer": "ipython3",
   "version": "3.10.0"
  }
 },
 "nbformat": 4,
 "nbformat_minor": 5
}
