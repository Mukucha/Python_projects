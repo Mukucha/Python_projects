{
 "cells": [
  {
   "cell_type": "code",
   "execution_count": 5,
   "id": "51185611",
   "metadata": {},
   "outputs": [
    {
     "name": "stdout",
     "output_type": "stream",
     "text": [
      "Please enter your url: https://chat.openai.com/\n"
     ]
    }
   ],
   "source": [
    "import qrcode\n",
    "\n",
    "def generate_qrcode(text):\n",
    "\n",
    "     qr = qrcode.QRCode(version=1, error_correction= qrcode.constants.ERROR_CORRECT_L, box_size=10,border=4,)\n",
    "\n",
    "     qr.add_data(text)\n",
    "     qr.make(fit=True)\n",
    "     img = qr.make_image(fill_collor='black', back_color='white')\n",
    "     img.save('qr.png')\n",
    "\n",
    "url= input('Please enter your url: ')\n",
    "generate_qrcode(url)\n"
   ]
  }
 ],
 "metadata": {
  "kernelspec": {
   "display_name": "Python 3 (ipykernel)",
   "language": "python",
   "name": "python3"
  },
  "language_info": {
   "codemirror_mode": {
    "name": "ipython",
    "version": 3
   },
   "file_extension": ".py",
   "mimetype": "text/x-python",
   "name": "python",
   "nbconvert_exporter": "python",
   "pygments_lexer": "ipython3",
   "version": "3.10.0"
  }
 },
 "nbformat": 4,
 "nbformat_minor": 5
}
